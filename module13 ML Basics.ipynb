{
  "nbformat": 4,
  "nbformat_minor": 0,
  "metadata": {
    "colab": {
      "provenance": []
    },
    "kernelspec": {
      "name": "python3",
      "display_name": "Python 3"
    },
    "language_info": {
      "name": "python"
    }
  },
  "cells": [
    {
      "cell_type": "markdown",
      "source": [
        "Questions-Answers"
      ],
      "metadata": {
        "id": "4lO2WU5o8II4"
      }
    },
    {
      "cell_type": "code",
      "source": [
        "# 1.What is a parameter?\n",
        "'''A parameter is a variable in a machine learning model that is learned from the training data.\n",
        " (e.g., weights in linear regression).'''"
      ],
      "metadata": {
        "id": "ohCNB0oJ8KIq"
      },
      "execution_count": null,
      "outputs": []
    },
    {
      "cell_type": "code",
      "source": [
        "# 2.What is correlation? What does negative correlation mean?\n",
        "'''Correlation is a statistical measure that shows how two variables move in relation to each other.\n",
        "Negative correlation means when one variable increases, the other decreases (e.g., more study time, fewer mistakes). '''"
      ],
      "metadata": {
        "id": "bVQOOcOP9J-H"
      },
      "execution_count": null,
      "outputs": []
    },
    {
      "cell_type": "code",
      "source": [
        "# 3.Define Machine Learning. What are the main components in Machine Learning?\n",
        "'''Machine Learning is the ability of a computer to learn from data without being explicitly programmed.\n",
        "Components:\n",
        "\n",
        "Data\n",
        "Model\n",
        "Loss function\n",
        "Optimizer\n",
        "Evaluation metric '''"
      ],
      "metadata": {
        "id": "vtvoOK3V9J5l"
      },
      "execution_count": null,
      "outputs": []
    },
    {
      "cell_type": "code",
      "source": [
        "# 4.How does loss value help in determining whether the model is good or not?\n",
        "'''Loss value shows how far predictions are from actual values. A lower loss means a better model. '''"
      ],
      "metadata": {
        "id": "NQ-Mm9II9J0q"
      },
      "execution_count": null,
      "outputs": []
    },
    {
      "cell_type": "code",
      "source": [
        "# 5.What are continuous and categorical variables?\n",
        "'''Continuous: Numeric values that can take any value (e.g., height, salary).\n",
        "Categorical: Data divided into groups (e.g., gender, color).'''"
      ],
      "metadata": {
        "id": "rq6wQuKF9Jyp"
      },
      "execution_count": null,
      "outputs": []
    },
    {
      "cell_type": "code",
      "source": [
        "# 6.How do we handle categorical variables in Machine Learning? What are the common techniques?\n",
        "'''Convert them into numbers using:\n",
        "\n",
        "Label Encoding\n",
        "One-Hot Encoding'''"
      ],
      "metadata": {
        "id": "md3wAuOg9Jte"
      },
      "execution_count": null,
      "outputs": []
    },
    {
      "cell_type": "code",
      "source": [
        "# 7.What do you mean by training and testing a dataset?\n",
        "'''Training set: Used to train the model.\n",
        "Testing set: Used to check how well the model works on new data.'''"
      ],
      "metadata": {
        "id": "2Yt50biJ9Jrl"
      },
      "execution_count": null,
      "outputs": []
    },
    {
      "cell_type": "code",
      "source": [
        "# 8.What is sklearn.preprocessing?\n",
        "'''It’s a module in scikit-learn used for data preprocessing like scaling and encoding.'''"
      ],
      "metadata": {
        "id": "YzxrgYVx9Jnt"
      },
      "execution_count": null,
      "outputs": []
    },
    {
      "cell_type": "code",
      "source": [
        "# 9.What is a Test set?\n",
        "'''It’s a separate part of the dataset used to evaluate the model after training.'''"
      ],
      "metadata": {
        "id": "01fYz6qW9JmK"
      },
      "execution_count": null,
      "outputs": []
    },
    {
      "cell_type": "code",
      "source": [
        "# 10.How do we split data for model fitting (training and testing) in Python? How do you approach a Machine Learning problem?\n",
        "'''Use train_test_split() from sklearn:\n",
        "\n",
        "from sklearn.model_selection import train_test_split\n",
        "X_train, X_test, y_train, y_test = train_test_split(X, y, test_size=0.2)\n",
        "\n",
        "Approach:\n",
        "Understand problem\n",
        "Collect and clean data\n",
        "Perform EDA\n",
        "Choose model\n",
        "Train and test\n",
        "Evaluate and improve\n"
      ],
      "metadata": {
        "id": "Zc9sQ7dI9JiR"
      },
      "execution_count": null,
      "outputs": []
    },
    {
      "cell_type": "code",
      "source": [
        "# 11.Why do we have to perform EDA before fitting a model to the data?\n",
        "'''EDA (Exploratory Data Analysis) helps understand the data, find patterns, spot outliers, and decide preprocessing steps. '''"
      ],
      "metadata": {
        "id": "2UQZfP7O9Jgn"
      },
      "execution_count": null,
      "outputs": []
    },
    {
      "cell_type": "code",
      "source": [
        "# 12.What is correlation?\n",
        "'''(Same as Q2) It measures how two variables are related.'''"
      ],
      "metadata": {
        "id": "oh6AZBe39JdT"
      },
      "execution_count": null,
      "outputs": []
    },
    {
      "cell_type": "code",
      "source": [
        "# 13.What does negative correlation mean?\n",
        "'''(Same as Q3) When one variable increases, the other decreases.'''"
      ],
      "metadata": {
        "id": "sJt0vUjX9Jbv"
      },
      "execution_count": null,
      "outputs": []
    },
    {
      "cell_type": "code",
      "source": [
        "# 14.How can you find correlation between variables in Python?\n",
        "'''Use .corr() with pandas: df.corr()'''"
      ],
      "metadata": {
        "id": "KGkncxHP9JYz"
      },
      "execution_count": null,
      "outputs": []
    },
    {
      "cell_type": "code",
      "source": [
        "# 15.What is causation? Explain difference between correlation and causation with an example.\n",
        "'''Causation means one variable causes a change in another.\n",
        "Example:\n",
        "Correlation: Ice cream sales and drowning deaths both go up in summer.\n",
        "Causation: Ice cream doesn't cause drowning; the season does.'''"
      ],
      "metadata": {
        "id": "xbQQNGFh9JXX"
      },
      "execution_count": null,
      "outputs": []
    },
    {
      "cell_type": "code",
      "source": [
        "# 16.What is an Optimizer? What are different types of optimizers? Explain each with an example.\n",
        "''' (not teach so for).\n",
        "\n",
        "Optimizer adjusts model parameters to reduce loss.\n",
        "Types:\n",
        "\n",
        "SGD (Stochastic Gradient Descent): Updates weights using a few samples.\n",
        "\n",
        "Adam: Combines SGD with momentum; faster and efficient.\n",
        "Example in TensorFlow:\n",
        "optimizer = tf.keras.optimizers.Adam()'''"
      ],
      "metadata": {
        "id": "UxAKxiqq9JUt"
      },
      "execution_count": null,
      "outputs": []
    },
    {
      "cell_type": "code",
      "source": [
        "# 17.What is sklearn.linear_model ?\n",
        "'''A module that includes linear models like LinearRegression, LogisticRegression.'''"
      ],
      "metadata": {
        "id": "gVyahHMU9JTY"
      },
      "execution_count": null,
      "outputs": []
    },
    {
      "cell_type": "code",
      "source": [
        "# 18.What does model.fit() do? What arguments must be given?\n",
        "'''It trains the model.\n",
        "Arguments: Training data and labels.\n",
        "model.fit(X_train, y_train)'''"
      ],
      "metadata": {
        "id": "UB1MSALh9JRR"
      },
      "execution_count": null,
      "outputs": []
    },
    {
      "cell_type": "code",
      "source": [
        "# 19.What does model.predict() do? What arguments must be given?\n",
        "'''(not teach so far.)\n",
        "\n",
        "It makes predictions.\n",
        "Arguments: Input data.\n",
        "model.predict(X_test)'''"
      ],
      "metadata": {
        "id": "TtRATz519JPU"
      },
      "execution_count": null,
      "outputs": []
    },
    {
      "cell_type": "code",
      "source": [
        "# 20.What are continuous and categorical variables?\n",
        "'''(Same as Q5)\n",
        "Continuous: Numeric values that can take any value (e.g., height, salary).\n",
        "Categorical: Data divided into groups (e.g., gender, color).'''"
      ],
      "metadata": {
        "id": "a1Bqwouw9JMn"
      },
      "execution_count": null,
      "outputs": []
    },
    {
      "cell_type": "code",
      "source": [
        "# 21.What is feature scaling? How does it help in Machine Learning?\n",
        "'''It standardizes the range of data features.\n",
        "Helps models like SVM and KNN perform better.'''"
      ],
      "metadata": {
        "id": "m9bZ6hxN9JLU"
      },
      "execution_count": null,
      "outputs": []
    },
    {
      "cell_type": "code",
      "source": [
        "# 22.How do we perform scaling in Python?\n",
        "'''Use StandardScaler or MinMaxScaler:\n",
        "\n",
        "1. StandardScaler (Z-score normalization)\n",
        "Use when data has outliers or normal distribution\n",
        "It transforms data so that:\n",
        "Mean = 0\n",
        "Standard Deviation = 1\n",
        "\n",
        "from sklearn.preprocessing import StandardScaler\n",
        "scaler = StandardScaler()\n",
        "X_scaled = scaler.fit_transform(X)\n",
        "\n",
        "\n",
        "2. MinMaxScaler\n",
        "When data has Fixed range, no outliers\n",
        "Scales data to a fixed range, usually 0 to 1\n",
        "\n",
        "from sklearn.preprocessing import MinMaxScaler\n",
        "scaler = MinMaxScaler()\n",
        "X_scaled = scaler.fit_transform(X)\n",
        "'''"
      ],
      "metadata": {
        "id": "pZzFN8ek9JIe"
      },
      "execution_count": null,
      "outputs": []
    },
    {
      "cell_type": "code",
      "source": [
        "# 23.What is sklearn.preprocessing?\n",
        "'''(Same as Q8) Module for scaling, encoding, and transforming data.'''"
      ],
      "metadata": {
        "id": "cQc9FLig9JHN"
      },
      "execution_count": null,
      "outputs": []
    },
    {
      "cell_type": "code",
      "source": [
        "# 24.How do we split data for model fitting (training and testing) in Python?\n",
        "'''To split data for model fitting (training and testing) in Python, can use the train_test_split() function from scikit-learn.\n",
        "\n",
        "from sklearn.model_selection import train_test_split\n",
        "\n",
        "# Assume X = features, y = labels\n",
        "X_train, X_test, y_train, y_test = train_test_split(X, y, test_size=0.2, random_state=42)\n",
        "\n",
        "X, y: Features and target labels\n",
        "test_size: Proportion of data to be used for testing (e.g., 0.2 = 20%)\n",
        "random_state: Ensures reproducible results\n",
        "This will split dataset into:\n",
        "X_train, y_train for training\n",
        "X_test, y_test for testing'''"
      ],
      "metadata": {
        "id": "hNJrZPzi9JEq"
      },
      "execution_count": null,
      "outputs": []
    },
    {
      "cell_type": "code",
      "source": [
        "# 25.Explain data encoding?\n",
        "'''Converting categorical data into numerical form so that machine learning models can understand it.\n",
        "ML models need numbers, not text (e.g., \"Male\", \"Red\", etc.).\n",
        "\n",
        "1. Label Encoding\n",
        "Converts categories to numbers (0, 1, 2)\n",
        "Use for ordinal data (has order)\n",
        "\n",
        "from sklearn.preprocessing import LabelEncoder\n",
        "le = LabelEncoder()\n",
        "df['Gender'] = le.fit_transform(df['Gender'])\n",
        "\n",
        "2. One-Hot Encoding\n",
        "Creates new column for each category (0 or 1)\n",
        "Use for nominal data (no order)\n",
        "\n",
        "pd.get_dummies(df['Color'])\n",
        "\n",
        "3. Ordinal Encoding\n",
        "Converts ordered categories to numbers based on custom order\n",
        "\n",
        "from sklearn.preprocessing import OrdinalEncoder\n",
        "oe = OrdinalEncoder(categories=[['Low', 'Medium', 'High']])\n",
        "df[['Priority']] = oe.fit_transform(df[['Priority']])\n",
        "\n",
        "[Use LabelEncoder for target labels\n",
        "Use OneHotEncoder or get_dummies() for features]'''\n"
      ],
      "metadata": {
        "id": "-HapyGFc9JDd"
      },
      "execution_count": null,
      "outputs": []
    }
  ]
}